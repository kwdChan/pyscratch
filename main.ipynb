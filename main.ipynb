{
 "cells": [
  {
   "cell_type": "code",
   "execution_count": 81,
   "id": "c018ef1d",
   "metadata": {},
   "outputs": [
    {
     "name": "stdout",
     "output_type": "stream",
     "text": [
      "The autoreload extension is already loaded. To reload it, use:\n",
      "  %reload_ext autoreload\n"
     ]
    }
   ],
   "source": [
    "import pygame\n",
    "from scratch_sprite import ScratchSprite\n",
    "pygame.init()\n",
    "screen = pygame.display.set_mode((1280, 720))\n",
    "%load_ext autoreload\n",
    "%autoreload 2"
   ]
  },
  {
   "cell_type": "code",
   "execution_count": 82,
   "id": "d26bf1c7",
   "metadata": {},
   "outputs": [],
   "source": [
    "sprite_sheet = pygame.image.load(\"assets/Sprout Lands - Sprites - Basic pack/Characters/Basic Charakter Actions.png\").convert_alpha()\n",
    "\n",
    "def get_frame(sheet, frame_width, frame_height, frame_index, row=0):\n",
    "    frame_rect = pygame.Rect(frame_index * frame_width, row * frame_height, frame_width, frame_height)\n",
    "    frame = sheet.subsurface(frame_rect)\n",
    "    return frame\n",
    "\n"
   ]
  },
  {
   "cell_type": "code",
   "execution_count": 83,
   "id": "8a2d468a",
   "metadata": {},
   "outputs": [],
   "source": [
    "x = get_frame(sprite_sheet, 48, 48, 1, 2)"
   ]
  },
  {
   "cell_type": "code",
   "execution_count": 84,
   "id": "c2c96a0c",
   "metadata": {},
   "outputs": [
    {
     "data": {
      "text/plain": [
       "48"
      ]
     },
     "execution_count": 84,
     "metadata": {},
     "output_type": "execute_result"
    }
   ],
   "source": [
    "x.get_rect().h"
   ]
  },
  {
   "cell_type": "code",
   "execution_count": 99,
   "id": "ba1671e7",
   "metadata": {},
   "outputs": [],
   "source": [
    "all_sprites = pygame.sprite.Group()"
   ]
  },
  {
   "cell_type": "code",
   "execution_count": 100,
   "id": "c2f49e12",
   "metadata": {},
   "outputs": [],
   "source": [
    "test = ScratchSprite([get_frame(sprite_sheet, 48, 48, 1, row=i) for i in range(4)], (100,100) )"
   ]
  },
  {
   "cell_type": "code",
   "execution_count": 101,
   "id": "4e503a03",
   "metadata": {},
   "outputs": [],
   "source": [
    "test.add(all_sprites)"
   ]
  },
  {
   "cell_type": "code",
   "execution_count": 102,
   "id": "65a6a5d4",
   "metadata": {},
   "outputs": [
    {
     "data": {
      "text/plain": [
       "[]"
      ]
     },
     "execution_count": 102,
     "metadata": {},
     "output_type": "execute_result"
    }
   ],
   "source": [
    "all_sprites.draw(screen)"
   ]
  },
  {
   "cell_type": "code",
   "execution_count": null,
   "id": "2d84c645",
   "metadata": {},
   "outputs": [],
   "source": []
  },
  {
   "cell_type": "code",
   "execution_count": null,
   "id": "c6912c9b",
   "metadata": {},
   "outputs": [
    {
     "ename": "",
     "evalue": "",
     "output_type": "error",
     "traceback": [
      "\u001b[1;31mThe Kernel crashed while executing code in the current cell or a previous cell. \n",
      "\u001b[1;31mPlease review the code in the cell(s) to identify a possible cause of the failure. \n",
      "\u001b[1;31mClick <a href='https://aka.ms/vscodeJupyterKernelCrash'>here</a> for more info. \n",
      "\u001b[1;31mView Jupyter <a href='command:jupyter.viewOutput'>log</a> for further details."
     ]
    }
   ],
   "source": [
    "screen.fill((30, 30, 30))\n",
    "\n",
    "test.next_frame()\n",
    "all_sprites.draw(screen)\n",
    "pygame.display.flip()"
   ]
  },
  {
   "cell_type": "code",
   "execution_count": 104,
   "id": "82b76fd1",
   "metadata": {},
   "outputs": [],
   "source": [
    "\n",
    "\n",
    "pygame.display.flip()"
   ]
  },
  {
   "cell_type": "code",
   "execution_count": null,
   "id": "0da61086",
   "metadata": {},
   "outputs": [],
   "source": []
  }
 ],
 "metadata": {
  "kernelspec": {
   "display_name": "venv",
   "language": "python",
   "name": "python3"
  },
  "language_info": {
   "codemirror_mode": {
    "name": "ipython",
    "version": 3
   },
   "file_extension": ".py",
   "mimetype": "text/x-python",
   "name": "python",
   "nbconvert_exporter": "python",
   "pygments_lexer": "ipython3",
   "version": "3.12.3"
  }
 },
 "nbformat": 4,
 "nbformat_minor": 5
}
